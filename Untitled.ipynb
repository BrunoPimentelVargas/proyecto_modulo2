{
 "cells": [
  {
   "cell_type": "code",
   "execution_count": 1,
   "metadata": {},
   "outputs": [],
   "source": [
    "import matplotlib.pyplot as plt\n",
    "import matplotlib as mpl\n",
    "import numpy as np\n",
    "from scipy.integrate import odeint\n",
    "%matplotlib inline"
   ]
  },
  {
   "cell_type": "code",
   "execution_count": 11,
   "metadata": {},
   "outputs": [],
   "source": [
    "G = 6.674e-11\n",
    "m1 = 1.98*(10**30)\n",
    "m2 = 5.97*(10**24)"
   ]
  },
  {
   "cell_type": "code",
   "execution_count": 12,
   "metadata": {},
   "outputs": [],
   "source": [
    "def func(Y, t):    \n",
    "    p1 = np.array([ Y[0], Y[1] ])\n",
    "    p2 = np.array([ Y[2], Y[3] ])\n",
    "    q1 = np.array([ Y[4], Y[5] ])\n",
    "    q2 = np.array([ Y[6], Y[7] ])\n",
    " \n",
    "    p1_prime = G * m2 * (q2 - q1) / \\\n",
    "               np.sum((q2 - q1)**2)\n",
    "    p2_prime = G * m1 * (q1 - q2) / \\\n",
    "               np.sum((q1 - q2)**2)\n",
    "    q1_prime = p1\n",
    "    q2_prime = p2\n",
    " \n",
    "    return [ p1_prime[0], p1_prime[1],\n",
    "             p2_prime[0], p2_prime[1],\n",
    "             q1_prime[0], q1_prime[1],\n",
    "             q2_prime[0], q2_prime[1] ]"
   ]
  },
  {
   "cell_type": "code",
   "execution_count": 15,
   "metadata": {},
   "outputs": [
    {
     "ename": "NameError",
     "evalue": "name 'xx' is not defined",
     "output_type": "error",
     "traceback": [
      "\u001b[1;31m---------------------------------------------------------------------------\u001b[0m",
      "\u001b[1;31mNameError\u001b[0m                                 Traceback (most recent call last)",
      "\u001b[1;32m<ipython-input-15-35b0ed2fcaaa>\u001b[0m in \u001b[0;36m<module>\u001b[1;34m()\u001b[0m\n\u001b[0;32m      7\u001b[0m     \u001b[0miv\u001b[0m \u001b[1;33m=\u001b[0m \u001b[0minit_p1\u001b[0m \u001b[1;33m+\u001b[0m \u001b[0minit_p2\u001b[0m \u001b[1;33m+\u001b[0m \u001b[0minit_q1\u001b[0m \u001b[1;33m+\u001b[0m \u001b[0minit_q2\u001b[0m\u001b[1;33m\u001b[0m\u001b[0m\n\u001b[0;32m      8\u001b[0m     \u001b[0mxx\u001b[0m \u001b[1;33m=\u001b[0m \u001b[0modeint\u001b[0m\u001b[1;33m(\u001b[0m\u001b[0mmain\u001b[0m\u001b[1;33m,\u001b[0m \u001b[0miv\u001b[0m\u001b[1;33m,\u001b[0m \u001b[0mt\u001b[0m\u001b[1;33m)\u001b[0m\u001b[1;33m\u001b[0m\u001b[0m\n\u001b[1;32m----> 9\u001b[1;33m \u001b[0mplt\u001b[0m\u001b[1;33m.\u001b[0m\u001b[0mplot\u001b[0m\u001b[1;33m(\u001b[0m\u001b[0mxx\u001b[0m\u001b[1;33m[\u001b[0m\u001b[1;33m:\u001b[0m\u001b[1;33m,\u001b[0m \u001b[1;36m4\u001b[0m\u001b[1;33m]\u001b[0m\u001b[1;33m,\u001b[0m\u001b[0mxx\u001b[0m\u001b[1;33m[\u001b[0m\u001b[1;33m:\u001b[0m\u001b[1;33m,\u001b[0m \u001b[1;36m5\u001b[0m\u001b[1;33m]\u001b[0m\u001b[1;33m,\u001b[0m\u001b[0ms\u001b[0m \u001b[1;33m=\u001b[0m \u001b[1;36m1\u001b[0m\u001b[1;33m,\u001b[0m\u001b[0mlw\u001b[0m \u001b[1;33m=\u001b[0m \u001b[1;36m0\u001b[0m\u001b[1;33m,\u001b[0m\u001b[0mc\u001b[0m \u001b[1;33m=\u001b[0m \u001b[1;34m'blue'\u001b[0m\u001b[1;33m)\u001b[0m\u001b[1;33m\u001b[0m\u001b[0m\n\u001b[0m\u001b[0;32m     10\u001b[0m \u001b[0mplt\u001b[0m\u001b[1;33m.\u001b[0m\u001b[0mplot\u001b[0m\u001b[1;33m(\u001b[0m\u001b[0mxx\u001b[0m\u001b[1;33m[\u001b[0m\u001b[1;33m:\u001b[0m\u001b[1;33m,\u001b[0m \u001b[1;36m6\u001b[0m\u001b[1;33m]\u001b[0m\u001b[1;33m,\u001b[0m\u001b[0mxx\u001b[0m\u001b[1;33m[\u001b[0m\u001b[1;33m:\u001b[0m\u001b[1;33m,\u001b[0m \u001b[1;36m7\u001b[0m\u001b[1;33m]\u001b[0m\u001b[1;33m,\u001b[0m\u001b[0ms\u001b[0m \u001b[1;33m=\u001b[0m \u001b[1;36m1\u001b[0m\u001b[1;33m,\u001b[0m\u001b[0mlw\u001b[0m \u001b[1;33m=\u001b[0m \u001b[1;36m0\u001b[0m\u001b[1;33m,\u001b[0m\u001b[0mc\u001b[0m \u001b[1;33m=\u001b[0m \u001b[1;34m'red'\u001b[0m\u001b[1;33m)\u001b[0m\u001b[1;33m\u001b[0m\u001b[0m\n\u001b[0;32m     11\u001b[0m \u001b[0mplt\u001b[0m\u001b[1;33m.\u001b[0m\u001b[0mshow\u001b[0m\u001b[1;33m(\u001b[0m\u001b[1;33m)\u001b[0m\u001b[1;33m\u001b[0m\u001b[0m\n",
      "\u001b[1;31mNameError\u001b[0m: name 'xx' is not defined"
     ]
    }
   ],
   "source": [
    "def main():\n",
    "    t = np.arange(0, 20000.0, 1)\n",
    "    init_p1 = [ 0, 1 ]\n",
    "    init_p2 = [ 0, -1 ]\n",
    "    init_q1 = [ 0, 0 ]\n",
    "    init_q2 = [ 10, 0 ]\n",
    "    iv = init_p1 + init_p2 + init_q1 + init_q2\n",
    "    xx = odeint(main, iv, t)\n",
    "plt.plot(xx[:, 4],xx[:, 5],s = 1,lw = 0,c = 'blue')\n",
    "plt.plot(xx[:, 6],xx[:, 7],s = 1,lw = 0,c = 'red')\n",
    "plt.show()"
   ]
  },
  {
   "cell_type": "code",
   "execution_count": null,
   "metadata": {},
   "outputs": [],
   "source": [
    "l= r**2*np.diff(theta, t)\n"
   ]
  },
  {
   "cell_type": "code",
   "execution_count": 27,
   "metadata": {},
   "outputs": [
    {
     "data": {
      "image/png": "[encoded data removed]",
      "text/plain": [
       "<Figure size 432x288 with 1 Axes>"
      ]
     },
     "metadata": {},
     "output_type": "display_data"
    }
   ],
   "source": [
    "import numpy as np\n",
    "import matplotlib.pyplot as plt\n",
    "from scipy.integrate import odeint\n",
    "\n",
    "def dr_dt(y, t):\n",
    "\n",
    "    G = 6.672*(10**-11)\n",
    "    M = 5.972*(10**24)\n",
    "    mu = G*M\n",
    "    r = np.sqrt(y[0]**2 + y[1]**2 + y[2]**2)\n",
    "\n",
    "    dy0 = y[3]\n",
    "    dy1 = y[4]\n",
    "    dy2 = y[5]\n",
    "    dy3 = -(mu / (r**3)) * y[0]\n",
    "    dy4 = -(mu / (r**3)) * y[1]\n",
    "    dy5 = -(mu / (r**3)) * y[2]\n",
    "    return [dy0, dy1, dy2, dy3, dy4, dy5]\n",
    "\n",
    "t = np.arange(0, 10000, 0.01)\n",
    "y0 = [7.e6, 0., 0., 0., 1.e3, 0.]\n",
    "y = odeint(dr_dt, y0, t)\n",
    "plt.plot(y[:,0], y[:,1])\n",
    "plt.show()"
   ]
  },
  {
   "cell_type": "code",
   "execution_count": null,
   "metadata": {},
   "outputs": [],
   "source": []
  }
 ],
 "metadata": {
  "kernelspec": {
   "display_name": "Python 3",
   "language": "python",
   "name": "python3"
  },
  "language_info": {
   "codemirror_mode": {
    "name": "ipython",
    "version": 3
   },
   "file_extension": ".py",
   "mimetype": "text/x-python",
   "name": "python",
   "nbconvert_exporter": "python",
   "pygments_lexer": "ipython3",
   "version": "3.6.5"
  }
 },
 "nbformat": 4,
 "nbformat_minor": 2
}
