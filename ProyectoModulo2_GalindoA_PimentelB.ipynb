{
 "cells": [
  {
   "cell_type": "markdown",
   "metadata": {},
   "source": [
    "# **Proyecto modulo 2**\n",
    "## **1.1 El problema de los dos cuerpos**"
   ]
  },
  {
   "cell_type": "markdown",
   "metadata": {},
   "source": [
    "## **1.2 Objetivos **\n",
    "\n",
    "### **1.2.1 Objetivo general**\n",
    "- Resolver por medio de ecuaciones diferenciales el problema de los dos cuerpos.\n",
    "\n",
    "### **1.2.2 Objetivos específicos**\n",
    "- Plantear el movimiento de traslación de la tierra por medio de ecuaciones diferenciales. \n",
    "- Obtener un gráfico del movimiento de los cuerpos.\n",
    "- Aplicar las leyes de Newton para la resolución del problema. \n"
   ]
  },
  {
   "cell_type": "markdown",
   "metadata": {},
   "source": [
    "## **1.3 Modelo que representa el problema **"
   ]
  },
  {
   "cell_type": "code",
   "execution_count": 1,
   "metadata": {},
   "outputs": [],
   "source": [
    "import matplotlib.pyplot as plt\n",
    "import matplotlib as mpl\n",
    "import numpy as np\n",
    "%matplotlib inline"
   ]
  },
  {
   "cell_type": "code",
   "execution_count": 2,
   "metadata": {},
   "outputs": [
    {
     "data": {
      "image/png": "[encoded data removed]",
      "text/plain": [
       "<Figure size 576x432 with 1 Axes>"
      ]
     },
     "metadata": {},
     "output_type": "display_data"
    }
   ],
   "source": [
    "x = np.array([0, 1])\n",
    "y = np.array([0, 1])\n",
    "plt.figure(figsize=(8,6))\n",
    "plt.plot(x, y, 'ro', ms=10)\n",
    "plt.axhline(0, color='k')\n",
    "plt.axvline(0, color='k')\n",
    "plt.annotate('($x_0$,$y_0$)', xy=(x[0], y[0]), fontsize=16)\n",
    "plt.annotate('($x_1$,$y_1$)', xy=(x[1], y[1]), fontsize=16)\n",
    "plt.annotate('($u_0$,$v_0$)', xy=(x[0], y[0]), fontsize=16, color='g', xytext=(.1,.1), arrowprops=dict(facecolor='green', shrink=0.01))\n",
    "plt.annotate('($u_1$,$v_1$)', xy=(x[1], y[1]), fontsize=16, color='g', xytext=(1.1,1.1), arrowprops=dict(facecolor='green', shrink=0.01))\n",
    "plt.grid()\n",
    "plt.show()"
   ]
  },
  {
   "cell_type": "markdown",
   "metadata": {},
   "source": [
    "La traslación de la Tierra es el movimiento de este planeta alrededor del Sol, que es la estrella central del sistema solar. La Tierra describe a su alrededor como una órbita elíptica. \n",
    "Si se toma como referencia la específica posición de una estrella, la Tierra realiza una vuelta completa en un año sidéreo, cuya duración es de 365 días 6 horas 9 minutos 9,7632 segundos. El año sidéreo es de poca importancia práctica. Para las actividades terrestres es más importante la medición del tiempo según las estaciones. \n",
    " \n",
    "\n",
    "La órbita tiene un perímetro de 930 millones de kilómetros, con una distancia promedio entre el Sol y la Tierra de 149 597 871 km($d$), distancia que se conoce como unidad astronómica (U. A.). De esto se deduce que la Tierra se desplaza en el espacio exterior a una velocidad media de 1.788 km por hora, o 29,8 km por segundo, en el plano la de eclíptica. (Por ser la órbita elíptica y no circular, la velocidad no es constante, oscila entre 30,3 km/s de velocidad máxima en el perihelio y 29,3 km/s de velocidad mínima en el afelio) \n",
    "\n",
    "Todas nuestras variables que sean sub uno esta relacionadas al $Sol$ mientras que nuestras variables sub 2 estan relacionadas con la $Tierra$.\n",
    "\n",
    "Tenemos dos vectores$(\\vec{q_1}$ y $\\vec{q_2})$ que ejercen su fuerza simultaneamente e inversamente uno del otro\n",
    "$$\\vec{q_2} = \\begin{bmatrix}{x_2}\\\\{y_2}\\end{bmatrix}m_1\\frac{d^2 \\vec{q_1}}{dt^2} = \\vec{F_{21}}$$\n",
    "\n",
    "$$\\vec{q_1} = \\begin{bmatrix}{x_1}\\\\{y_1}\\end{bmatrix}m_2\\frac{d^2 \\vec{q_2}}{dt^2} = \\vec{F_{12}}$$\n",
    "\n",
    "El problema de los dos cuerpos consiste en determinar el movimiento entre dos cuerpos que interactúan entre sí. Las *Leyes de Newton* nos ayuda a reducir el problema de **dos cuerpos** a un **problema de un cuerpo** equivalente, es decir, resolver el movimiento de una partícula sometida a un campo gravitatorio conservativo $(G)$ y que por tanto deriva de un potencial externo. \n",
    "\n",
    "La *ley de la gravitación universal* de Newton establece esta atracción mutua como proporcional a las masas y al inverso del cuadrado de la distancia. \n",
    "$$\\left \\| \\vec{F_{12}} \\right \\| = \\left \\| \\vec{F_{21}} \\right \\| = \\frac{G m_1 m_2}{r_{12}^2}$$\n",
    "\n",
    "La distancia entre los cuerpos es igual.\n",
    "$$r_{12}=-r_{21}$$\n",
    "\n",
    "La distancia que hay entre ambos cuerpos lo podemos obtener del *teorema de Pitágoras* de la siguiente manera:\n",
    "$${r_{12}}=\\sqrt{(x_2-x_1)^2+(y_2-y_1)^2}$$\n",
    "\n",
    "Que seria lo equivalente a:\n",
    "$$\\vec{r_{12}}=\\vec{d_2}-\\vec{r_1}$$\n",
    "$$\\vec{r_{21}}=\\vec{d_1}-\\vec{r_2}$$\n",
    "\n",
    "Tendriamos entonces la fuerza $\\vec{F_{21}}$ igual a la ley de la gravitación universal por un *vector unitario* $(\\hat{r_{12}} )$ lo cual indica que es una fuerza atractiva.\n",
    "$$\\vec{F_{21}}= \\left \\| \\vec{F_{21}} \\right \\| \\hat{r_{12}}$$\n",
    "$$\\vec{F_{21}}= -\\frac{G m_1 m_2}{r_{12}^3} \\vec{r_{12}}$$\n",
    "\n",
    "Aplicando la *segunda ley de Newton* obtendriamos:\n",
    "$$m_2 . \\ddot{\\vec{r_2}}= \\vec{F_{12}}$$\n",
    "$$m_1 . \\ddot{\\vec{r_1}}= \\vec{F_{21}}$$\n",
    "\n",
    "Por lo tanto nos quedarían las ecuaciones de movimiento expresadas así:\n",
    "$$m_2 . \\ddot{\\vec{r_2}}= -\\frac{G m_1 m_2}{r_{12}^3}.\\vec{r_{12}}$$\n",
    "$$m_1 . \\ddot{\\vec{r_1}}=-\\frac{G m_1 m_2}{r_{21}^3}. \\vec{r_{21}}$$\n",
    "\n",
    "Si sumaramos las ecuaciones nos quedaría el movimiento de centro de masas del sistema formado por los dos cuerpos.  \n",
    "$$m_2 .\\ddot{\\vec{r_2}}+m_1 . \\ddot{\\vec{r_1}}=0$$\n",
    "La aceleración de los centros de masa es igual a cero y por lo tanto lo consideraremos una velocidad constante.\n",
    "\n",
    "Despejando la aceleración obtenemos:\n",
    "$$\\ddot{\\vec{r_1}}= -\\frac{G m_1 m_2}{r_{21}^3}.\\vec{r_{12}} \\frac{1}{m_1}$$\n",
    "$$\\ddot{\\vec{r_2}}= -\\frac{G m_1 m_2}{r_{12}^3}.\\vec{r_{12}} \\frac{1}{m_2}$$\n",
    "\n",
    "Despejando nos quedaría:\n",
    "$$\\ddot{x_1}= -\\frac{G m_1 m_2}{r_{21}^3}.(x_2-x_1)\\frac{1}{m_1}$$\n",
    "$$\\ddot{x_2}= -\\frac{G m_1 m_2}{r_{21}^3}.(x_1-x_2)\\frac{1}{m_2}$$\n",
    "$$\\ddot{y_1}= -\\frac{G m_1 m_2}{r_{21}^3}.(y_2-y_1)\\frac{1}{m_1}$$\n",
    "$$\\ddot{y_2}= -\\frac{G m_1 m_2}{r_{21}^3}.(y_1-y_2)\\frac{1}{m_2}$$\n",
    "\n",
    "Para poder utilizar nuestra función de *odeint* debemos de pasarlo a derivadas de primer orden de la siguiente manera:\n",
    "$$\\dot{x_1}= -\\frac{G m_1 m_2}{r_{21}^3}.(x_2-x_1)$$\n",
    "$$\\dot{x_2}= -\\frac{G m_1 m_2}{r_{21}^3}.(x_1-x_2)$$\n",
    "$$\\dot{y_1}= -\\frac{G m_1 m_2}{r_{21}^3}.(y_2-y_1)$$\n",
    "$$\\dot{y_2}= -\\frac{G m_1 m_2}{r_{21}^3}.(y_1-y_2)$$\n",
    "\n",
    "Definimos el vector $\\vec{d}$ \n",
    "$$\\vec{r}=\\vec{r_2}-\\vec{r_1}$$\n",
    "\n",
    "Y obtenemos:\n",
    "$$\\ddot{\\vec{r}}= -\\frac{G m_1 m_2}{r^3}.\\vec{r} \\frac{1}{m_1}$$\n",
    "\n",
    "Haciendo una diferencia de ecuaciones tendriamos \n",
    "$$\\ddot{\\vec{r_1}}-\\ddot{\\vec{r_2}}= -\\frac{G m_2^3}{(m_1+m_2)^2 r^2} \\vec{r}$$\n",
    "\n",
    "Como todas estas variables son constantes las vamos a agrupar dentro de una misma constante $K$\n",
    "$$K= -\\frac{G m_2^3}{(m_1+m_2)^2}$$\n",
    "Para resolver esta ecuación diferencial de segundo grado dejaremos el vector unitario de $\\vec{r}$ como esta mientras que $\\vec{s}$ como el vector unitario de la velocidad de $\\vec{r}$. \n",
    "\n",
    "De $\\vec{r}. \\vec{r}=1$ obtenemos:\n",
    "$$0= \\frac{d}{dt}(\\vec{r}.\\vec{r})= 2\\vec{r}.\\frac{d}{dt}\\vec{r}$$\n",
    "Lo que implica que $\\vec{r}.\\vec{s}=0$. Si $\\vec{r}=(cos{\\theta}, sen{\\theta})$ obtenemos:\n",
    "$$\\frac{d}{dt}\\vec{r}=(-sen{\\theta}, cos{\\theta})\\frac{d\\theta}{dt}=\\frac{d\\theta}{dt}\\vec{s}$$\n",
    "\n",
    "Utilizando el método de masa reducida del sistema definiendolo como $\\mu$ obtenemos la siguiente ecuación de movimiento del cuerpo dos sobre el cuerpo 1\n",
    "$$\\mu = \\left(\\displaystyle\\frac{m_1 + m_2}{m_1 m_2}\\right) $$\n",
    "$$\\mu .\\ddot{\\vec{r_2}}=-\\frac{G m_1 m_2}{r^3}\\vec{r}$$\n",
    "\n",
    "Para encontrar el la posición de nuestros cuerpos utilizaremos **coordenadas polares**, en estas la aceleración esta definida como:\n",
    "$$ a_d= \\ddot{\\vec{r}} - r . \\dot{\\theta}^2 = \\vec{r}$$\n",
    "$$a_{\\theta}= r \\ddot{\\theta}+2\\dot{r}\\dot{\\theta}$$\n",
    "Sustituyendo en nuestra ecuación de movimiento que ya antes dedujimos tendriamos con coordenadas polares la siguiente expresión\n",
    "$$\\mu (\\ddot r - r \\dot{\\theta}^2) $$\n",
    "\n",
    "\n",
    "De manera radial tendriamos que $\\mu (\\ddot r - r \\dot{\\theta}^2)=-(f(d))$ mientras que de manera perpendicular tendriamos $\\mu(r \\ddot{\\theta}+2\\dot{r}\\dot{\\theta})=0$  \n",
    "\n",
    "Este sistema de ecuaciones no tiene solución exacta con la variable de tiempo, por lo que buscaremos eliminar el tiempo y de la siguiente manera:\n",
    "$$\\ddot \\mu= \\frac{-G m_1^2/(m_1+m_2)^2}{\\mu^3}$$"
   ]
  },
  {
   "cell_type": "markdown",
   "metadata": {},
   "source": [
    "## **1.4 Simulaciones **\n",
    "#### Constantes \n"
   ]
  },
  {
   "cell_type": "code",
   "execution_count": 3,
   "metadata": {},
   "outputs": [],
   "source": [
    "G= 6.67*(10**-11)\n",
    "m1= 1.98*(10**30)\n",
    "m2= 5.97*(10**24)"
   ]
  },
  {
   "cell_type": "code",
   "execution_count": 5,
   "metadata": {},
   "outputs": [],
   "source": [
    "#importar librerias \n",
    "import numpy as np\n",
    "import matplotlib.pyplot as plt\n",
    "from scipy.integrate import odeint\n",
    "#definimos nuestra función\n",
    "def dr_dt(y, t):\n",
    "\n",
    "    r = np.sqrt((y[0]-y[2])**2 + (y[4]-y[7])**2)#distancia entre masas\n",
    "\n",
    "    dy0 = y[1]#cambio de variable x1 a u1\n",
    "    dy1 = y[3]#cambio de variable x2 a u2\n",
    "    dy2 = y[5]#cambio de variable y1 a v1\n",
    "    dy3 = y[6]#cambio de variable y2 a v2\n",
    "    dy4 = -(G*m2*(y[0]-y[2]) / (r**3)) \n",
    "    dy5 = -(G*m1*(y[2]-y[0]) / (r**3)) \n",
    "    dy6 = -(G*m2*(y[4]-y[7]) / (r**3)) \n",
    "    dy7 = -(G*m1*(y[7]-y[4]) / (r**3)) \n",
    "    return [dy0, dy1, dy2, dy3, dy4, dy5, dy6, dy7]\n",
    "\n",
    "t = np.arange(0, 365*24*60**2, 10e12)\n",
    "y0 = [0, 0, 0, 0, (2.5e17*np.cos(7.25)), 0, (2.5e17*np.sin(7.25)), 0]\n",
    "y = odeint(dr_dt, y0, t)"
   ]
  },
  {
   "cell_type": "code",
   "execution_count": 6,
   "metadata": {},
   "outputs": [],
   "source": [
    "#otra interpretación \n",
    "def dos_cuerpos(z, t, G, m1, m2):\n",
    "    x1 = z[0]\n",
    "    vx1 = z[1]\n",
    "    y1 = z[2]\n",
    "    vy1 = z[3]\n",
    "    x2 = z[4]\n",
    "    vx2 = z[5]\n",
    "    y2 = z[6]\n",
    "    vy2 = z[7]\n",
    "    \n",
    "    r12 = np.sqrt((x2-x1)**2+(y2-y1)**2)#distancia entre centros \n",
    "    \n",
    "    dx1 = vx1 #derivada de x1(velocidad de x1)\n",
    "    dvx1 = -G*m2*(x1-x2)/(r12**3) #ecuación de la derivada\n",
    "    dy1 = vy1 #derivada de y1(velocidad de y1)\n",
    "    dvy1 = -G*m2*(y1-y2)/(r12**3)\n",
    "    dx2 = vx2 #derivada de x2(velocidad de x2)\n",
    "    dvx2 = G*m1*(x1-x2)/(r12**3)\n",
    "    dy2 = vy2 #derivada de y2(velocidad de y2)\n",
    "    dvy2 = G*m1*(y1-y2)/(r12**3)\n",
    "    \n",
    "    return np.array([dx1, dvx1, dy1, dvy1, dx2, dvx2, dy2, dvy2])"
   ]
  },
  {
   "cell_type": "code",
   "execution_count": 7,
   "metadata": {},
   "outputs": [],
   "source": [
    "#G= 6.67*(10**-11)\n",
    "#m1= 1.98*(10**30)\n",
    "#m2= 5.97*(10**24)\n",
    "\n",
    "G= 1\n",
    "m1= 1\n",
    "m2= 1\n",
    "\n",
    "#t = np.linspace(0, 10*365*24*60*60, 5000)\n",
    "t = np.linspace(0, 10, 500)\n",
    "\n",
    "z0 = np.array([0, 0, 0, 0, 1.495997e11, 0, 0, 29800])"
   ]
  },
  {
   "cell_type": "code",
   "execution_count": 91,
   "metadata": {},
   "outputs": [],
   "source": [
    "z = odeint(dos_cuerpos, z0, t, args=(G,m1,m2))"
   ]
  },
  {
   "cell_type": "code",
   "execution_count": 92,
   "metadata": {},
   "outputs": [],
   "source": [
    "x1 = z[:,0]\n",
    "y1 = z[:,2]\n",
    "x2 = z[:,4]\n",
    "y2 = z[:,6]"
   ]
  },
  {
   "cell_type": "code",
   "execution_count": 93,
   "metadata": {},
   "outputs": [
    {
     "data": {
      "text/plain": [
       "(500, 8)"
      ]
     },
     "execution_count": 93,
     "metadata": {},
     "output_type": "execute_result"
    }
   ],
   "source": [
    "z.shape"
   ]
  },
  {
   "cell_type": "code",
   "execution_count": 8,
   "metadata": {},
   "outputs": [],
   "source": [
    "#cálculo de una elipse\n",
    "import numpy as np\n",
    "import matplotlib.pyplot as plt\n",
    "from scipy.integrate import odeint\n",
    "\n",
    "def dr_dtt(y, t):\n",
    "\n",
    "    Gc = 6.672*(10**-11)\n",
    "    M = 5.972*(10**24)\n",
    "    mu = Gc*M\n",
    "    r = np.sqrt(y[0]**2 + y[1]**2 + y[2]**2)\n",
    "\n",
    "    dy0 = y[3]\n",
    "    dy1 = y[4]\n",
    "    dy2 = y[5]\n",
    "    dy3 = -(mu / (r**3)) * y[0]\n",
    "    dy4 = -(mu / (r**3)) * y[1]\n",
    "    dy5 = -(mu / (r**3)) * y[2]\n",
    "    return [dy0, dy1, dy2, dy3, dy4, dy5]\n",
    "\n",
    "tt = np.arange(0, 100000, 0.1)\n",
    "yy0 = [7.e6, 0., 0., 0., 1.e3, 0.]\n",
    "yy = odeint(dr_dtt, yy0, tt)"
   ]
  },
  {
   "cell_type": "markdown",
   "metadata": {},
   "source": [
    "## **1.5 Visualización de resultados de simulación**"
   ]
  },
  {
   "cell_type": "code",
   "execution_count": 85,
   "metadata": {},
   "outputs": [
    {
     "data": {
      "text/plain": [
       "[<matplotlib.lines.Line2D at 0x19700464eb8>]"
      ]
     },
     "execution_count": 85,
     "metadata": {},
     "output_type": "execute_result"
    },
    {
     "data": {
      "image/png": "[encoded data removed]",
      "text/plain": [
       "<Figure size 432x288 with 1 Axes>"
      ]
     },
     "metadata": {},
     "output_type": "display_data"
    }
   ],
   "source": [
    "plt.plot(x2,y2)"
   ]
  },
  {
   "cell_type": "code",
   "execution_count": 97,
   "metadata": {},
   "outputs": [
    {
     "data": {
      "image/png": "[encoded data removed]",
      "text/plain": [
       "<Figure size 432x288 with 1 Axes>"
      ]
     },
     "metadata": {},
     "output_type": "display_data"
    }
   ],
   "source": [
    "plt.plot(0, 0, 'ro')\n",
    "plt.plot(x1, y1)\n",
    "plt.plot(x2, y2)\n",
    "plt.xlabel('x')\n",
    "plt.ylabel('y')\n",
    "plt.grid()\n",
    "plt.show()"
   ]
  },
  {
   "cell_type": "code",
   "execution_count": 9,
   "metadata": {},
   "outputs": [
    {
     "data": {
      "image/png": "[encoded data removed]",
      "text/plain": [
       "<Figure size 432x288 with 1 Axes>"
      ]
     },
     "metadata": {},
     "output_type": "display_data"
    }
   ],
   "source": [
    "plt.plot(yy[:,0], yy[:,1])\n",
    "plt.show()"
   ]
  },
  {
   "cell_type": "markdown",
   "metadata": {},
   "source": [
    "## **1.6 Conclusiones**"
   ]
  },
  {
   "cell_type": "markdown",
   "metadata": {},
   "source": [
    "- En el gráfico pudimos observar que el movimeinto de la tierra genera un elipse alrededor del sol.\n",
    "- Se utilizo y se cumplio la ley de gravitación universal.\n",
    "- Observamos como se comportan los planetas con mayor masa en relación con los planetas de menor masa. \n"
   ]
  },
  {
   "cell_type": "markdown",
   "metadata": {},
   "source": [
    "## **1.7 Referencias:**\n",
    "- https://www.edumedia-sciences.com/es/media/216\n",
    "- https://www.iac.es/cosmoeduca/relatividad/anexos/movimientos.htm\n",
    "- https://es.wikipedia.org/wiki/Sol\n",
    "- https://es.wikipedia.org/wiki/Masa_de_la_Tierra\n",
    "- https://es.wikipedia.org/wiki/Masa_solar\n",
    "- https://www.youtube.com/watch?v=nHNf-oIfUZo\n",
    "- http://www.math.tamu.edu/~mpilant/math614/twobody.pdf"
   ]
  },
  {
   "cell_type": "code",
   "execution_count": null,
   "metadata": {},
   "outputs": [],
   "source": []
  }
 ],
 "metadata": {
  "kernelspec": {
   "display_name": "Python 3",
   "language": "python",
   "name": "python3"
  },
  "language_info": {
   "codemirror_mode": {
    "name": "ipython",
    "version": 3
   },
   "file_extension": ".py",
   "mimetype": "text/x-python",
   "name": "python",
   "nbconvert_exporter": "python",
   "pygments_lexer": "ipython3",
   "version": "3.6.5"
  }
 },
 "nbformat": 4,
 "nbformat_minor": 2
}
