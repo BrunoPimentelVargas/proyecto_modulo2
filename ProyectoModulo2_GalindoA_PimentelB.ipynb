{
 "cells": [
  {
   "cell_type": "markdown",
   "metadata": {},
   "source": [
    "# **Proyecto modulo 2**\n",
    "## **1.1 Movimientos de traslación**"
   ]
  },
  {
   "cell_type": "markdown",
   "metadata": {},
   "source": [
    "## **1.2 Objetivos **"
   ]
  },
  {
   "cell_type": "markdown",
   "metadata": {},
   "source": [
    "## **1.3 Modelo que representa el problema **"
   ]
  },
  {
   "cell_type": "code",
   "execution_count": 1,
   "metadata": {},
   "outputs": [],
   "source": [
    "import matplotlib.pyplot as plt\n",
    "import matplotlib as mpl\n",
    "import numpy as np\n",
    "%matplotlib inline"
   ]
  },
  {
   "cell_type": "code",
   "execution_count": 39,
   "metadata": {},
   "outputs": [
    {
     "data": {
      "image/png": "[encoded data removed]",
      "text/plain": [
       "<Figure size 576x432 with 1 Axes>"
      ]
     },
     "metadata": {},
     "output_type": "display_data"
    }
   ],
   "source": [
    "x = np.array([0, 1])\n",
    "y = np.array([0, 1])\n",
    "plt.figure(figsize=(8,6))\n",
    "plt.plot(x, y, 'ro', ms=10)\n",
    "plt.annotate('($x_0$,$y_0$)', xy=(x[0], y[0]), fontsize=16)\n",
    "plt.annotate('($x_1$,$y_1$)', xy=(x[1], y[1]), fontsize=16)\n",
    "plt.grid()\n",
    "plt.show()"
   ]
  },
  {
   "attachments": {},
   "cell_type": "markdown",
   "metadata": {},
   "source": [
    "La traslación de la Tierra es el movimiento de este planeta alrededor del Sol, que es la estrella central del sistema solar. La Tierra describe a su alrededor como una órbita elíptica. \n",
    "Si se toma como referencia la específica posición de una estrella, la Tierra realiza una vuelta completa en un año sidéreo, cuya duración es de 365 días 6 horas 9 minutos 9,7632 segundos. El año sidéreo es de poca importancia práctica. Para las actividades terrestres es más importante la medición del tiempo según las estaciones. \n",
    " \n",
    "\n",
    "La órbita tiene un perímetro de 930 millones de kilómetros, con una distancia promedio al Sol de 149 597 871 km, distancia que se conoce como unidad astronómica (U. A.). De esto se deduce que la Tierra se desplaza en el espacio exterior a una velocidad media de 1.788 km por hora, o 29,8 km por segundo, en el plano la de eclíptica. (Por ser la órbita elíptica y no circular, la velocidad no es constante, oscila entre 30,3 km/s de velocidad máxima en el perihelio y 29,3 km/s de velocidad mínima en el afelio) \n",
    "$$\\vec{q_2} = \\begin{bmatrix}{x_2}\\\\{y_2}\\end{bmatrix}m_1\\frac{d^2 \\vec{q_1}}{dt^2} = \\vec{F_{21}}$$\n",
    "\n",
    "$$\\vec{q_1} = \\begin{bmatrix}{x_1}\\\\{y_1}\\end{bmatrix}m_1\\frac{d^2 \\vec{q_2}}{dt^2} = \\vec{F_{12}}$$\n",
    "\n",
    "$$\\left \\| \\vec{F_{12}} \\right \\| = \\left \\| \\vec{F_{21}} \\right \\| = \\frac{G m_1 m_2}{d_{12}}$$\n",
    "\n",
    "$${d_{12}}=\\sqrt{(x_2-x_1)^2+(y_2-y_1)^2}$$\n",
    "\n"
   ]
  },
  {
   "cell_type": "markdown",
   "metadata": {},
   "source": [
    "## **1.4 Simulaciones **\n",
    "#### Constantes \n"
   ]
  },
  {
   "cell_type": "code",
   "execution_count": 20,
   "metadata": {},
   "outputs": [],
   "source": [
    "x1= 0\n",
    "vx1= 0\n",
    "y1= 0\n",
    "vy1= 0\n",
    "x2= 1.495997*(10**11)\n",
    "vx2= 0\n",
    "y2= 0\n",
    "vy2= 29.8*(10**3)\n",
    "G= 6.67408*(10**-11)\n",
    "m1= 1.9891*(10**30)\n",
    "m2= 5.972*(10**24)"
   ]
  },
  {
   "cell_type": "code",
   "execution_count": null,
   "metadata": {},
   "outputs": [],
   "source": [
    "G"
   ]
  },
  {
   "cell_type": "code",
   "execution_count": null,
   "metadata": {},
   "outputs": [],
   "source": []
  },
  {
   "cell_type": "markdown",
   "metadata": {},
   "source": [
    "## **1.5 Visualización de resultados de simulación**"
   ]
  },
  {
   "cell_type": "markdown",
   "metadata": {},
   "source": [
    "## **1.6 Conclusiones**"
   ]
  },
  {
   "cell_type": "markdown",
   "metadata": {},
   "source": [
    "## **1.7 Referencias:**\n",
    "- https://www.edumedia-sciences.com/es/media/216\n",
    "- https://www.iac.es/cosmoeduca/relatividad/anexos/movimientos.htm\n",
    "- https://es.wikipedia.org/wiki/Sol\n",
    "- https://es.wikipedia.org/wiki/Masa_de_la_Tierra\n",
    "- https://es.wikipedia.org/wiki/Masa_solar"
   ]
  }
 ],
 "metadata": {
  "kernelspec": {
   "display_name": "Python 3",
   "language": "python",
   "name": "python3"
  },
  "language_info": {
   "codemirror_mode": {
    "name": "ipython",
    "version": 3
   },
   "file_extension": ".py",
   "mimetype": "text/x-python",
   "name": "python",
   "nbconvert_exporter": "python",
   "pygments_lexer": "ipython3",
   "version": "3.6.5"
  }
 },
 "nbformat": 4,
 "nbformat_minor": 2
}
