{
 "cells": [
  {
   "cell_type": "markdown",
   "metadata": {},
   "source": [
    "# Proyecto modulo 2:\n",
    "# Movimientos de traslación."
   ]
  },
  {
   "cell_type": "markdown",
   "metadata": {},
   "source": [
    "## **1.2 Objetivos **"
   ]
  },
  {
   "cell_type": "markdown",
   "metadata": {},
   "source": [
    "## **1.3 Modelo que representa el problema **"
   ]
  },
  {
   "cell_type": "markdown",
   "metadata": {},
   "source": [
    "Los movimientos de la Luna en torno a la Tierra y de la Tierra alrededor del Sol son complejos. A los movimientos de rotación en torno a sus propios ejes se superponen movimientos de traslación orbital.\n",
    "La Tierra y la Luna giran en torno a sus propios ejes: Esta es la rotación.\n",
    "La Tierra y la Luna orbitan entorno a otros objetos: Esta es la traslación orbital.\n",
    "La rotación de la Tierra (24h) explica la alternancia día/noche.\n",
    "La traslación de la Tierra en su órbita en torno al Sol (que dura 365.25 días), combinada con la inclinación de su eje de rotación (no ilustrada aquí), explica la alternancia de las estaciones.\n",
    "El hecho que la rotación de la Luna en torno a su propio eje y que su órbita en torno a la Tierra son de exactamente la misma duración (29.5 días) explica el por qué la Luna presenta siempre la misma cara hacia la Tierra.\n",
    "Las proporciones y escalas de tiempo en esta animación no son las del sistema real."
   ]
  },
  {
   "cell_type": "markdown",
   "metadata": {},
   "source": [
    "## **1.4 Simulaciones **"
   ]
  },
  {
   "cell_type": "markdown",
   "metadata": {},
   "source": [
    "## **1.5 Visualización de resultados de simulación**"
   ]
  },
  {
   "cell_type": "markdown",
   "metadata": {},
   "source": [
    "## **1.6 Conclusiones**"
   ]
  },
  {
   "cell_type": "markdown",
   "metadata": {},
   "source": [
    "## **1.7 Referencias:**\n",
    "- https://www.edumedia-sciences.com/es/media/216"
   ]
  }
 ],
 "metadata": {
  "kernelspec": {
   "display_name": "Python 3",
   "language": "python",
   "name": "python3"
  },
  "language_info": {
   "codemirror_mode": {
    "name": "ipython",
    "version": 3
   },
   "file_extension": ".py",
   "mimetype": "text/x-python",
   "name": "python",
   "nbconvert_exporter": "python",
   "pygments_lexer": "ipython3",
   "version": "3.6.5"
  }
 },
 "nbformat": 4,
 "nbformat_minor": 2
}
